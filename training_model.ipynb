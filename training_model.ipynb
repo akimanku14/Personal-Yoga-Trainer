{
 "cells": [
  {
   "cell_type": "code",
   "execution_count": 1,
   "id": "403c95c6",
   "metadata": {
    "id": "403c95c6"
   },
   "outputs": [],
   "source": [
    "import mediapipe as mp\n",
    "import cv2\n",
    "import numpy as np\n",
    "import pandas as pd\n",
    "import seaborn as sns\n",
    "import csv\n",
    "import os\n",
    "\n",
    "import pickle\n",
    "\n",
    "from sklearn.model_selection import train_test_split\n",
    "from sklearn.preprocessing import StandardScaler\n",
    "from sklearn.calibration import CalibratedClassifierCV\n",
    "from sklearn.linear_model import LogisticRegression, SGDClassifier\n",
    "from sklearn.svm import SVC\n",
    "from sklearn.neighbors import KNeighborsClassifier\n",
    "from sklearn.tree import DecisionTreeClassifier\n",
    "from sklearn.ensemble import RandomForestClassifier\n",
    "from sklearn.naive_bayes import GaussianNB\n",
    "\n",
    "from sklearn.metrics import precision_score, accuracy_score, f1_score, recall_score, confusion_matrix\n",
    "\n",
    "#drawing pose and landmarks\n",
    "mp_drawing = mp.solutions.drawing_utils\n",
    "mp_pose = mp.solutions.pose"
   ]
  },
  {
   "cell_type": "code",
   "execution_count": 4,
   "id": "d73c0f15",
   "metadata": {
    "id": "d73c0f15"
   },
   "outputs": [
    {
     "name": "stdout",
     "output_type": "stream",
     "text": [
      "C:\\Users\\Ria\\Downloads\n"
     ]
    }
   ],
   "source": [
    "print(os.getcwd())"
   ]
  },
  {
   "cell_type": "code",
   "execution_count": 13,
   "id": "680df7fd",
   "metadata": {
    "id": "680df7fd"
   },
   "outputs": [],
   "source": [
    "def describe_dataset_points(dataset_path):\n",
    "    data = pd.read_csv(dataset_path)\n",
    "        #printing headers\n",
    "    print(f\"Headers: {list(data.columns.values)}\")\n",
    "\n",
    "    duplicate = data[data.duplicated()] #A list of duplicated data\n",
    "    # .duplicated() returns a boolean of T/F for duplicate, non duplicate rows\n",
    "\n",
    "    #print the column, axis = 1\n",
    "    print(f\"Duplicate Rows : {len(duplicate.sum(axis=1))}\")\n",
    "\n",
    "    remove_duplicate = pd.read_csv(dataset_path)\n",
    "\n",
    "    remove_duplicate.drop_duplicates(keep = 'first', inplace=True)\n",
    "    remove_duplicate.to_csv(f\"cleaned_train.csv\", sep=',', encoding='utf-8', index=False)\n",
    "    return remove_duplicate\n",
    "    "
   ]
  },
  {
   "cell_type": "code",
   "execution_count": 2,
   "id": "30dc3057",
   "metadata": {
    "id": "30dc3057"
   },
   "outputs": [],
   "source": [
    "def round_up_metric_results(results) -> list:\n",
    "    #Round up metrics results such as precision score, accuracy score, recall score etc.\n",
    "    return list(map(lambda el: round(el, 3), results))"
   ]
  },
  {
   "cell_type": "code",
   "execution_count": 14,
   "id": "78236dde",
   "metadata": {
    "colab": {
     "base_uri": "https://localhost:8080/"
    },
    "id": "78236dde",
    "outputId": "b924d2e0-09d6-4015-ceec-ce7b5cf28c8a"
   },
   "outputs": [
    {
     "name": "stdout",
     "output_type": "stream",
     "text": [
      "Headers: ['label', 'left_shoulder_x', 'left_shoulder_y', 'left_shoulder_z', 'left_shoulder_v', 'right_shoulder_x', 'right_shoulder_y', 'right_shoulder_z', 'right_shoulder_v', 'left_elbow_x', 'left_elbow_y', 'left_elbow_z', 'left_elbow_v', 'right_elbow_x', 'right_elbow_y', 'right_elbow_z', 'right_elbow_v', 'left_wrist_x', 'left_wrist_y', 'left_wrist_z', 'left_wrist_v', 'right_wrist_x', 'right_wrist_y', 'right_wrist_z', 'right_wrist_v', 'left_hip_x', 'left_hip_y', 'left_hip_z', 'left_hip_v', 'right_hip_x', 'right_hip_y', 'right_hip_z', 'right_hip_v', 'left_knee_x', 'left_knee_y', 'left_knee_z', 'left_knee_v', 'right_knee_x', 'right_knee_y', 'right_knee_z', 'right_knee_v', 'left_ankle_x', 'left_ankle_y', 'left_ankle_z', 'left_ankle_v', 'right_ankle_x', 'right_ankle_y', 'right_ankle_z', 'right_ankle_v', 'left_heel_x', 'left_heel_y', 'left_heel_z', 'left_heel_v', 'right_heel_x', 'right_heel_y', 'right_heel_z', 'right_heel_v', 'left_foot_index_x', 'left_foot_index_y', 'left_foot_index_z', 'left_foot_index_v', 'right_foot_index_x', 'right_foot_index_y', 'right_foot_index_z', 'right_foot_index_v', 'nose_x', 'nose_y', 'nose_z', 'nose_v']\n",
      "Duplicate Rows : 119\n"
     ]
    },
    {
     "data": {
      "text/plain": [
       "291    0\n",
       "59     0\n",
       "6      0\n",
       "Name: label, dtype: int32"
      ]
     },
     "execution_count": 14,
     "metadata": {},
     "output_type": "execute_result"
    }
   ],
   "source": [
    "# Extract features and class\n",
    "df = describe_dataset_points(\"train.csv\")\n",
    "X = df.drop(\"label\", axis=1)\n",
    "#print(\"x:\", X)\n",
    "y = df[\"label\"].astype(\"int\")\n",
    "#print(\"y:\", y)\n",
    "sc = StandardScaler()\n",
    "X = pd.DataFrame(sc.fit_transform(X))\n",
    "X_train, X_test, y_train, y_test = train_test_split(X, y, test_size=0.2, random_state=1234)\n",
    "y_test.head(3)"
   ]
  },
  {
   "cell_type": "code",
   "execution_count": 15,
   "id": "f73a5196",
   "metadata": {
    "colab": {
     "base_uri": "https://localhost:8080/",
     "height": 160
    },
    "id": "f73a5196",
    "outputId": "c7d608fc-b2eb-4272-cd5e-81ab0b2e54c2"
   },
   "outputs": [
    {
     "name": "stdout",
     "output_type": "stream",
     "text": [
      "{'LR': LogisticRegression(), 'DTC': DecisionTreeClassifier(), 'SVC': SVC(probability=True)}\n"
     ]
    },
    {
     "data": {
      "text/html": [
       "<div>\n",
       "<style scoped>\n",
       "    .dataframe tbody tr th:only-of-type {\n",
       "        vertical-align: middle;\n",
       "    }\n",
       "\n",
       "    .dataframe tbody tr th {\n",
       "        vertical-align: top;\n",
       "    }\n",
       "\n",
       "    .dataframe thead th {\n",
       "        text-align: right;\n",
       "    }\n",
       "</style>\n",
       "<table border=\"1\" class=\"dataframe\">\n",
       "  <thead>\n",
       "    <tr style=\"text-align: right;\">\n",
       "      <th></th>\n",
       "      <th>Model</th>\n",
       "      <th>Precision Score</th>\n",
       "      <th>Accuracy score</th>\n",
       "      <th>Recall Score</th>\n",
       "      <th>F1 score</th>\n",
       "      <th>Confusion Matrix</th>\n",
       "    </tr>\n",
       "  </thead>\n",
       "  <tbody>\n",
       "    <tr>\n",
       "      <th>0</th>\n",
       "      <td>LR</td>\n",
       "      <td>[0.933, 1.0]</td>\n",
       "      <td>0.958333</td>\n",
       "      <td>[1.0, 0.9]</td>\n",
       "      <td>[0.966, 0.947]</td>\n",
       "      <td>[[28, 0, 0], [2, 18, 0], [0, 0, 0]]</td>\n",
       "    </tr>\n",
       "    <tr>\n",
       "      <th>1</th>\n",
       "      <td>DTC</td>\n",
       "      <td>[0.897, 0.895]</td>\n",
       "      <td>0.895833</td>\n",
       "      <td>[0.929, 0.85]</td>\n",
       "      <td>[0.912, 0.872]</td>\n",
       "      <td>[[26, 2, 0], [3, 17, 0], [0, 0, 0]]</td>\n",
       "    </tr>\n",
       "    <tr>\n",
       "      <th>2</th>\n",
       "      <td>SVC</td>\n",
       "      <td>[0.963, 0.905]</td>\n",
       "      <td>0.937500</td>\n",
       "      <td>[0.929, 0.95]</td>\n",
       "      <td>[0.945, 0.927]</td>\n",
       "      <td>[[26, 2, 0], [1, 19, 0], [0, 0, 0]]</td>\n",
       "    </tr>\n",
       "  </tbody>\n",
       "</table>\n",
       "</div>"
      ],
      "text/plain": [
       "  Model Precision Score  Accuracy score   Recall Score        F1 score  \\\n",
       "0    LR    [0.933, 1.0]        0.958333     [1.0, 0.9]  [0.966, 0.947]   \n",
       "1   DTC  [0.897, 0.895]        0.895833  [0.929, 0.85]  [0.912, 0.872]   \n",
       "2   SVC  [0.963, 0.905]        0.937500  [0.929, 0.95]  [0.945, 0.927]   \n",
       "\n",
       "                      Confusion Matrix  \n",
       "0  [[28, 0, 0], [2, 18, 0], [0, 0, 0]]  \n",
       "1  [[26, 2, 0], [3, 17, 0], [0, 0, 0]]  \n",
       "2  [[26, 2, 0], [1, 19, 0], [0, 0, 0]]  "
      ]
     },
     "execution_count": 15,
     "metadata": {},
     "output_type": "execute_result"
    }
   ],
   "source": [
    "algorithms =[(\"LR\", LogisticRegression()),\n",
    "         (\"DTC\", DecisionTreeClassifier()),\n",
    "         (\"SVC\", SVC(probability=True))]\n",
    "\n",
    "models = {}\n",
    "final_results = []\n",
    "\n",
    "for name, model in algorithms:\n",
    "    trained_model = model.fit(X_train, y_train)\n",
    "    models[name] = trained_model\n",
    "\n",
    "    # Evaluate model\n",
    "    model_results = model.predict(X_test)\n",
    "    #print(\"mr\",model_results)\n",
    "    #print(\"y\", y_test)\n",
    "    p_score = precision_score(y_test, model_results, average=None, labels=[0,1])\n",
    "    a_score = accuracy_score(y_test, model_results)\n",
    "    r_score = recall_score(y_test, model_results, average=None, labels=[0, 1])\n",
    "    f1_score_result = f1_score(y_test, model_results, average=None, labels=[0, 1])\n",
    "    cm = confusion_matrix(y_test, model_results, labels=[0, 1, 2])\n",
    "    final_results.append(( name,  round_up_metric_results(p_score), a_score, round_up_metric_results(r_score), round_up_metric_results(f1_score_result), cm))\n",
    "final_results\n",
    "print(models)\n",
    "pd.DataFrame(final_results, columns=[\"Model\", \"Precision Score\", \"Accuracy score\", \"Recall Score\", \"F1 score\", \"Confusion Matrix\"])\n"
   ]
  },
  {
   "cell_type": "code",
   "execution_count": 16,
   "id": "81fd0ad6",
   "metadata": {
    "id": "81fd0ad6"
   },
   "outputs": [],
   "source": [
    "with open(\"./all_sklearn.pkl\", \"wb\") as f:\n",
    "    pickle.dump(models[\"LR\"], f)\n",
    "# Dump input scaler\n",
    "with open(\"./input_scalerall.pkl\", \"wb\") as f:\n",
    "    pickle.dump(sc, f)"
   ]
  },
  {
   "cell_type": "code",
   "execution_count": null,
   "id": "895f87d1",
   "metadata": {
    "id": "895f87d1"
   },
   "outputs": [],
   "source": []
  },
  {
   "cell_type": "code",
   "execution_count": null,
   "id": "132427a5",
   "metadata": {
    "id": "132427a5"
   },
   "outputs": [],
   "source": []
  },
  {
   "cell_type": "code",
   "execution_count": null,
   "id": "kgq0EIhd6vlb",
   "metadata": {
    "id": "kgq0EIhd6vlb"
   },
   "outputs": [],
   "source": []
  }
 ],
 "metadata": {
  "colab": {
   "provenance": []
  },
  "kernelspec": {
   "display_name": "Python 3",
   "language": "python",
   "name": "python3"
  },
  "language_info": {
   "codemirror_mode": {
    "name": "ipython",
    "version": 3
   },
   "file_extension": ".py",
   "mimetype": "text/x-python",
   "name": "python",
   "nbconvert_exporter": "python",
   "pygments_lexer": "ipython3",
   "version": "3.8.8"
  }
 },
 "nbformat": 4,
 "nbformat_minor": 5
}
