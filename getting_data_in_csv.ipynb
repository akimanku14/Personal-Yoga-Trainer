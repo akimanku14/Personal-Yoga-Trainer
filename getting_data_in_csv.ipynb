{
 "cells": [
  {
   "cell_type": "code",
   "execution_count": 3,
   "metadata": {
    "id": "sf2jpBDJa3Qe"
   },
   "outputs": [],
   "source": [
    "import mediapipe as mp\n",
    "import cv2\n",
    "import numpy as np\n",
    "import pandas as pd\n",
    "import seaborn as sns\n",
    "import csv\n",
    "import os\n",
    "\n",
    "import pickle\n",
    "\n",
    "from sklearn.model_selection import train_test_split\n",
    "from sklearn.preprocessing import StandardScaler\n",
    "from sklearn.calibration import CalibratedClassifierCV\n",
    "from sklearn.linear_model import LogisticRegression, SGDClassifier\n",
    "from sklearn.svm import SVC\n",
    "from sklearn.neighbors import KNeighborsClassifier\n",
    "from sklearn.tree import DecisionTreeClassifier\n",
    "from sklearn.ensemble import RandomForestClassifier\n",
    "from sklearn.naive_bayes import GaussianNB\n",
    "\n",
    "from sklearn.metrics import precision_score, accuracy_score, f1_score, recall_score, confusion_matrix\n",
    "\n",
    "#drawing pose and landmarks !!!!\n",
    "mp_drawing = mp.solutions.drawing_utils\n",
    "mp_pose = mp.solutions.pose"
   ]
  },
  {
   "cell_type": "code",
   "execution_count": 4,
   "metadata": {
    "colab": {
     "base_uri": "https://localhost:8080/"
    },
    "id": "5XZ_zeZzaDgI",
    "outputId": "abbb9be4-3bcd-462f-9248-d18ca3489d9c"
   },
   "outputs": [
    {
     "name": "stdout",
     "output_type": "stream",
     "text": [
      "Done\n",
      "Done2\n"
     ]
    }
   ],
   "source": [
    "from zipfile import ZipFile\n",
    "file_name = \"./goddesstest.zip\"\n",
    "\n",
    "with ZipFile(file_name, 'r') as zip:\n",
    "  zip.extractall()\n",
    "\n",
    "file_name = \"./warrior2test.zip\"\n",
    "\n",
    "with ZipFile(file_name, 'r') as zip:\n",
    "  zip.extractall()\n"
   ]
  },
  {
   "cell_type": "code",
   "execution_count": 2,
   "metadata": {
    "colab": {
     "base_uri": "https://localhost:8080/"
    },
    "id": "yRp21HmEa7Cj",
    "outputId": "ef8ca0e6-e1ab-4167-b152-8be7155df32a"
   },
   "outputs": [
    {
     "name": "stdout",
     "output_type": "stream",
     "text": [
      "Looking in indexes: https://pypi.org/simple, https://us-python.pkg.dev/colab-wheels/public/simple/\n",
      "Requirement already satisfied: mediapipe in /usr/local/lib/python3.10/dist-packages (0.10.0)\n",
      "Requirement already satisfied: absl-py in /usr/local/lib/python3.10/dist-packages (from mediapipe) (1.4.0)\n",
      "Requirement already satisfied: attrs>=19.1.0 in /usr/local/lib/python3.10/dist-packages (from mediapipe) (23.1.0)\n",
      "Requirement already satisfied: flatbuffers>=2.0 in /usr/local/lib/python3.10/dist-packages (from mediapipe) (23.3.3)\n",
      "Requirement already satisfied: matplotlib in /usr/local/lib/python3.10/dist-packages (from mediapipe) (3.7.1)\n",
      "Requirement already satisfied: numpy in /usr/local/lib/python3.10/dist-packages (from mediapipe) (1.22.4)\n",
      "Requirement already satisfied: opencv-contrib-python in /usr/local/lib/python3.10/dist-packages (from mediapipe) (4.7.0.72)\n",
      "Requirement already satisfied: protobuf<4,>=3.11 in /usr/local/lib/python3.10/dist-packages (from mediapipe) (3.20.3)\n",
      "Requirement already satisfied: sounddevice>=0.4.4 in /usr/local/lib/python3.10/dist-packages (from mediapipe) (0.4.6)\n",
      "Requirement already satisfied: CFFI>=1.0 in /usr/local/lib/python3.10/dist-packages (from sounddevice>=0.4.4->mediapipe) (1.15.1)\n",
      "Requirement already satisfied: contourpy>=1.0.1 in /usr/local/lib/python3.10/dist-packages (from matplotlib->mediapipe) (1.0.7)\n",
      "Requirement already satisfied: cycler>=0.10 in /usr/local/lib/python3.10/dist-packages (from matplotlib->mediapipe) (0.11.0)\n",
      "Requirement already satisfied: fonttools>=4.22.0 in /usr/local/lib/python3.10/dist-packages (from matplotlib->mediapipe) (4.39.3)\n",
      "Requirement already satisfied: kiwisolver>=1.0.1 in /usr/local/lib/python3.10/dist-packages (from matplotlib->mediapipe) (1.4.4)\n",
      "Requirement already satisfied: packaging>=20.0 in /usr/local/lib/python3.10/dist-packages (from matplotlib->mediapipe) (23.1)\n",
      "Requirement already satisfied: pillow>=6.2.0 in /usr/local/lib/python3.10/dist-packages (from matplotlib->mediapipe) (8.4.0)\n",
      "Requirement already satisfied: pyparsing>=2.3.1 in /usr/local/lib/python3.10/dist-packages (from matplotlib->mediapipe) (3.0.9)\n",
      "Requirement already satisfied: python-dateutil>=2.7 in /usr/local/lib/python3.10/dist-packages (from matplotlib->mediapipe) (2.8.2)\n",
      "Requirement already satisfied: pycparser in /usr/local/lib/python3.10/dist-packages (from CFFI>=1.0->sounddevice>=0.4.4->mediapipe) (2.21)\n",
      "Requirement already satisfied: six>=1.5 in /usr/local/lib/python3.10/dist-packages (from python-dateutil>=2.7->matplotlib->mediapipe) (1.16.0)\n"
     ]
    }
   ],
   "source": [
    "pip install mediapipe"
   ]
  },
  {
   "cell_type": "code",
   "execution_count": 5,
   "metadata": {
    "id": "c7m9ZGuGa-_l"
   },
   "outputs": [],
   "source": [
    "IMPORTANT_LMS = [\n",
    "    \"LEFT_SHOULDER\",\n",
    "    \"RIGHT_SHOULDER\",\n",
    "    \"LEFT_ELBOW\",\n",
    "    \"RIGHT_ELBOW\",\n",
    "    \"LEFT_WRIST\",\n",
    "    \"RIGHT_WRIST\",\n",
    "    \"LEFT_HIP\",\n",
    "    \"RIGHT_HIP\",\n",
    "    \"LEFT_KNEE\",\n",
    "    \"RIGHT_KNEE\",\n",
    "    \"LEFT_ANKLE\",\n",
    "    \"RIGHT_ANKLE\",\n",
    "    \"LEFT_HEEL\",\n",
    "    \"RIGHT_HEEL\",\n",
    "    \"LEFT_FOOT_INDEX\",\n",
    "    \"RIGHT_FOOT_INDEX\",\n",
    "    \"NOSE\"\n",
    "]\n",
    "\n",
    "HEADERS = [\"label\"] # Label column\n",
    "\n",
    "#Points to be trained upon\n",
    "for lm in IMPORTANT_LMS:\n",
    "    HEADERS += [f\"{lm.lower()}_x\", f\"{lm.lower()}_y\", f\"{lm.lower()}_z\", f\"{lm.lower()}_v\"]\n"
   ]
  },
  {
   "cell_type": "code",
   "execution_count": 6,
   "metadata": {
    "id": "oUiMVAGbbJbX"
   },
   "outputs": [],
   "source": [
    "def create_csv(dataset_path: str):\n",
    "    # Ignore if file is already exist\n",
    "        \n",
    "\n",
    "        # Creating a csv file with HEADERS as columns, Opening the file in 'write' mode\n",
    "        with open(dataset_path, mode=\"w\", newline=\"\") as f:\n",
    "            \n",
    "            csv_writer = csv.writer(f, delimiter=\",\", quotechar='\"', quoting=csv.QUOTE_MINIMAL)\n",
    "            csv_writer.writerow(HEADERS)\n",
    "            print(\"created\")\n",
    "\n",
    "\n",
    "def export_landmark_to_csv(dataset_path: str, results, pose_label):\n",
    "    \n",
    "    #Export and store Labeled Data from detected landmark to csv\n",
    "    \n",
    "    keypoints = []\n",
    "    try:\n",
    "        for i in range(10,99):\n",
    "                        \n",
    "            if os.path.isfile(results + str(i) + \".jpg\"):\n",
    "                #print(type(results + str(i) + \".jpg\"))\n",
    "                #print(results + str(i) + \".jpg\")\n",
    "                image = cv2.imread(results + str(i) + \".jpg\")\n",
    "                mp_pose = mp.solutions.pose\n",
    "                pose = mp_pose.Pose(static_image_mode=True, min_detection_confidence=0.5)\n",
    "                img_rgb = cv2.cvtColor(image, cv2.COLOR_BGR2RGB)\n",
    "                final_img = pose.process(img_rgb)\n",
    "                if final_img.pose_landmarks != None:\n",
    "                    data1 = final_img.pose_landmarks.landmark\n",
    "                else:\n",
    "                    continue\n",
    "                \n",
    "\n",
    "                lst = [pose_label]\n",
    "                for lm in IMPORTANT_LMS:\n",
    "                    keypoint = data1[mp_pose.PoseLandmark[lm].value]\n",
    "                    lst.extend([keypoint.x, keypoint.y, keypoint.z, keypoint.visibility])\n",
    "                    #lst.insert(0, 1)\n",
    "                    \n",
    "                with open(dataset_path, mode=\"a\", newline=\"\") as f:\n",
    "                    csv_writer = csv.writer(f, delimiter=\",\", quotechar='\"', quoting=csv.QUOTE_MINIMAL)\n",
    "                    csv_writer.writerow(lst)\n",
    "                    \n",
    "                \n",
    "            else:\n",
    "                continue\n",
    "                \n",
    "            \n",
    "        print(\"done writing\")\n",
    "        \n",
    "    except Exception as e:\n",
    "        print(e)\n",
    "        pass"
   ]
  },
  {
   "cell_type": "code",
   "execution_count": null,
   "metadata": {
    "colab": {
     "base_uri": "https://localhost:8080/"
    },
    "id": "65DJqVwCbShW",
    "outputId": "31b76cde-4109-4e13-f32f-5f9ca29d2849"
   },
   "outputs": [
    {
     "name": "stdout",
     "output_type": "stream",
     "text": [
      "created\n",
      "llklklklkl\n",
      "llklklklkl\n",
      "llklklklkl\n",
      "llklklklkl\n",
      "llklklklkl\n",
      "llklklklkl\n",
      "llklklklkl\n",
      "llklklklkl\n",
      "llklklklkl\n",
      "llklklklkl\n",
      "llklklklkl\n",
      "llklklklkl\n",
      "llklklklkl\n",
      "llklklklkl\n",
      "llklklklkl\n",
      "llklklklkl\n",
      "llklklklkl\n",
      "llklklklkl\n",
      "llklklklkl\n",
      "llklklklkl\n",
      "llklklklkl\n",
      "llklklklkl\n",
      "llklklklkl\n",
      "llklklklkl\n",
      "llklklklkl\n",
      "llklklklkl\n",
      "llklklklkl\n",
      "llklklklkl\n",
      "llklklklkl\n",
      "llklklklkl\n",
      "llklklklkl\n",
      "llklklklkl\n",
      "llklklklkl\n",
      "llklklklkl\n",
      "llklklklkl\n",
      "llklklklkl\n",
      "llklklklkl\n",
      "llklklklkl\n",
      "llklklklkl\n",
      "llklklklkl\n",
      "llklklklkl\n",
      "llklklklkl\n",
      "llklklklkl\n",
      "llklklklkl\n",
      "llklklklkl\n",
      "llklklklkl\n",
      "llklklklkl\n",
      "llklklklkl\n",
      "llklklklkl\n",
      "llklklklkl\n",
      "llklklklkl\n",
      "llklklklkl\n",
      "llklklklkl\n",
      "llklklklkl\n",
      "llklklklkl\n",
      "llklklklkl\n",
      "llklklklkl\n",
      "llklklklkl\n",
      "llklklklkl\n",
      "llklklklkl\n",
      "llklklklkl\n",
      "llklklklkl\n",
      "done writing\n",
      "llklklklkl\n",
      "llklklklkl\n",
      "llklklklkl\n",
      "llklklklkl\n",
      "llklklklkl\n",
      "llklklklkl\n",
      "llklklklkl\n",
      "llklklklkl\n",
      "llklklklkl\n",
      "llklklklkl\n",
      "llklklklkl\n",
      "llklklklkl\n",
      "llklklklkl\n",
      "llklklklkl\n",
      "llklklklkl\n",
      "llklklklkl\n",
      "llklklklkl\n",
      "llklklklkl\n",
      "llklklklkl\n",
      "llklklklkl\n",
      "llklklklkl\n",
      "llklklklkl\n",
      "llklklklkl\n",
      "llklklklkl\n",
      "llklklklkl\n",
      "llklklklkl\n",
      "llklklklkl\n",
      "llklklklkl\n",
      "llklklklkl\n",
      "llklklklkl\n",
      "llklklklkl\n",
      "llklklklkl\n",
      "llklklklkl\n",
      "llklklklkl\n",
      "llklklklkl\n",
      "llklklklkl\n",
      "llklklklkl\n",
      "llklklklkl\n",
      "llklklklkl\n",
      "llklklklkl\n",
      "llklklklkl\n",
      "llklklklkl\n",
      "llklklklkl\n",
      "llklklklkl\n",
      "llklklklkl\n",
      "llklklklkl\n",
      "llklklklkl\n",
      "llklklklkl\n",
      "llklklklkl\n",
      "llklklklkl\n",
      "llklklklkl\n"
     ]
    }
   ],
   "source": [
    "location1 = \"./test.csv\"\n",
    "create_csv(location1)\n",
    "export_landmark_to_csv(location1, \"./goddess/000000\", 0)\n",
    "export_landmark_to_csv(location1, \"./warrior2/000000\",1)"
   ]
  },
  {
   "cell_type": "code",
   "execution_count": null,
   "metadata": {
    "id": "se-K_dO3bdb0"
   },
   "outputs": [],
   "source": []
  }
 ],
 "metadata": {
  "colab": {
   "provenance": []
  },
  "kernelspec": {
   "display_name": "Python 3",
   "language": "python",
   "name": "python3"
  },
  "language_info": {
   "codemirror_mode": {
    "name": "ipython",
    "version": 3
   },
   "file_extension": ".py",
   "mimetype": "text/x-python",
   "name": "python",
   "nbconvert_exporter": "python",
   "pygments_lexer": "ipython3",
   "version": "3.8.8"
  }
 },
 "nbformat": 4,
 "nbformat_minor": 1
}
